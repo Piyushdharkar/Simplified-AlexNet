{
 "cells": [
  {
   "cell_type": "code",
   "execution_count": 1,
   "metadata": {
    "colab": {},
    "colab_type": "code",
    "id": "aToUpfPlswDn"
   },
   "outputs": [],
   "source": [
    "import matplotlib.pyplot as plt\n",
    "import random\n",
    "import numpy as np\n",
    "from skimage import transform\n",
    "from sklearn.model_selection import train_test_split\n",
    "from tensorflow.keras.datasets import cifar10\n",
    "from tensorflow.keras.utils import to_categorical\n",
    "from tensorflow.keras.models import Model\n",
    "from tensorflow.keras.layers import Conv2D, Dense, Dropout, MaxPooling2D, Flatten\n",
    "from tensorflow.keras.preprocessing.image import ImageDataGenerator\n",
    "from tensorflow.keras.optimizers import Adam\n",
    "from tensorflow import convert_to_tensor\n",
    "from tensorflow.test import gpu_device_name\n",
    "from tensorflow.keras.callbacks import ReduceLROnPlateau, EarlyStopping"
   ]
  },
  {
   "cell_type": "code",
   "execution_count": 3,
   "metadata": {
    "colab": {},
    "colab_type": "code",
    "id": "6HWAlDFcFZQF"
   },
   "outputs": [],
   "source": [
    "(x_train_init, y_train_init), (x_test_init, y_test_init) = cifar10.load_data()"
   ]
  },
  {
   "cell_type": "code",
   "execution_count": 4,
   "metadata": {
    "colab": {
     "base_uri": "https://localhost:8080/",
     "height": 34
    },
    "colab_type": "code",
    "id": "3mcFlxz9GQuz",
    "outputId": "31d1e20b-ed74-4dfc-e72b-781725367931"
   },
   "outputs": [
    {
     "data": {
      "text/plain": [
       "(50000, 32, 32, 3)"
      ]
     },
     "execution_count": 4,
     "metadata": {
      "tags": []
     },
     "output_type": "execute_result"
    }
   ],
   "source": [
    "x_train_init.shape"
   ]
  },
  {
   "cell_type": "code",
   "execution_count": 5,
   "metadata": {
    "colab": {
     "base_uri": "https://localhost:8080/",
     "height": 34
    },
    "colab_type": "code",
    "id": "VW-w7ORdG6s1",
    "outputId": "273aed3a-651d-4cfb-a3a6-168bf78f15b2"
   },
   "outputs": [
    {
     "data": {
      "text/plain": [
       "(50000, 1)"
      ]
     },
     "execution_count": 5,
     "metadata": {
      "tags": []
     },
     "output_type": "execute_result"
    }
   ],
   "source": [
    "y_train_init.shape"
   ]
  },
  {
   "cell_type": "code",
   "execution_count": 6,
   "metadata": {
    "colab": {
     "base_uri": "https://localhost:8080/",
     "height": 283
    },
    "colab_type": "code",
    "id": "K0I_cMI0GR-g",
    "outputId": "3f9118f0-5729-4edc-c8c2-9509dd6769bd"
   },
   "outputs": [
    {
     "name": "stdout",
     "output_type": "stream",
     "text": [
      "[1]\n"
     ]
    },
    {
     "data": {
      "image/png": "[encoded data removed]",
      "text/plain": [
       "<Figure size 432x288 with 1 Axes>"
      ]
     },
     "metadata": {
      "needs_background": "light",
      "tags": []
     },
     "output_type": "display_data"
    }
   ],
   "source": [
    "random_integer = random.randint(0, x_train_init.shape[0])\n",
    "\n",
    "plt.imshow(x_train_init[random_integer,:])\n",
    "print(y_train_init[random_integer, :])"
   ]
  },
  {
   "cell_type": "code",
   "execution_count": 7,
   "metadata": {
    "colab": {
     "base_uri": "https://localhost:8080/",
     "height": 141
    },
    "colab_type": "code",
    "id": "z8UnQ_6UGi1W",
    "outputId": "2c83fb9d-4982-4032-a78c-2959dfa85e64"
   },
   "outputs": [
    {
     "data": {
      "text/plain": [
       "array([[0., 0., 0., ..., 0., 0., 0.],\n",
       "       [0., 0., 0., ..., 0., 0., 1.],\n",
       "       [0., 0., 0., ..., 0., 0., 1.],\n",
       "       ...,\n",
       "       [0., 0., 0., ..., 0., 0., 1.],\n",
       "       [0., 1., 0., ..., 0., 0., 0.],\n",
       "       [0., 1., 0., ..., 0., 0., 0.]], dtype=float32)"
      ]
     },
     "execution_count": 7,
     "metadata": {
      "tags": []
     },
     "output_type": "execute_result"
    }
   ],
   "source": [
    "y_train_one_hot = to_categorical(y_train_init, num_classes=10)\n",
    "y_train_one_hot"
   ]
  },
  {
   "cell_type": "code",
   "execution_count": 8,
   "metadata": {
    "colab": {},
    "colab_type": "code",
    "id": "wDtYWrSvIipL"
   },
   "outputs": [],
   "source": [
    "x_train, x_val, y_train, y_val = train_test_split(x_train_init, y_train_one_hot, test_size=0.1)"
   ]
  },
  {
   "cell_type": "code",
   "execution_count": 9,
   "metadata": {
    "colab": {},
    "colab_type": "code",
    "id": "DRv3xs9OJLBK"
   },
   "outputs": [],
   "source": [
    "x_train_tensor = convert_to_tensor(x_train)\n",
    "y_train_tensor = convert_to_tensor(y_train)\n",
    "\n",
    "x_val_tensor = convert_to_tensor(x_val)\n",
    "y_val_tensor = convert_to_tensor(y_val)"
   ]
  },
  {
   "cell_type": "code",
   "execution_count": 10,
   "metadata": {
    "colab": {
     "base_uri": "https://localhost:8080/",
     "height": 34
    },
    "colab_type": "code",
    "id": "us59LayGTicN",
    "outputId": "088f99bd-3135-4b4c-fe83-23946f7b364c"
   },
   "outputs": [
    {
     "data": {
      "text/plain": [
       "TensorShape([45000, 32, 32, 3])"
      ]
     },
     "execution_count": 10,
     "metadata": {
      "tags": []
     },
     "output_type": "execute_result"
    }
   ],
   "source": [
    "x_train_tensor.shape"
   ]
  },
  {
   "cell_type": "code",
   "execution_count": 11,
   "metadata": {
    "colab": {
     "base_uri": "https://localhost:8080/",
     "height": 34
    },
    "colab_type": "code",
    "id": "swFeh4eRTjjV",
    "outputId": "1b1594d8-6b63-4e3c-d47a-23c7b09f547e"
   },
   "outputs": [
    {
     "data": {
      "text/plain": [
       "TensorShape([45000, 10])"
      ]
     },
     "execution_count": 11,
     "metadata": {
      "tags": []
     },
     "output_type": "execute_result"
    }
   ],
   "source": [
    "y_train_tensor.shape"
   ]
  },
  {
   "cell_type": "code",
   "execution_count": 12,
   "metadata": {
    "colab": {},
    "colab_type": "code",
    "id": "UsS20D62JMS0"
   },
   "outputs": [],
   "source": [
    "class AlexNet(Model):\n",
    "  def __init__(self, input_shape, num_classes):\n",
    "    super(AlexNet, self).__init__()\n",
    "    \n",
    "    # self.conv1 = Conv2D(filters=96, kernel_size=11, strides=4, activation='relu', input_shape=input_shape)\n",
    "    # self.max_pool_1 = MaxPooling2D(pool_size=(3, 3), strides=2)\n",
    "    # self.conv2 = Conv2D(filters=256, kernel_size=5, activation='relu', padding='same')\n",
    "    # self.max_pool_2 = MaxPooling2D(pool_size=3, strides=2)\n",
    "    # self.conv3 = Conv2D(filters=384, kernel_size=3, activation='relu', padding='same')\n",
    "\n",
    "    self.conv1 = Conv2D(filters=32, kernel_size=3, strides=1, activation='relu', input_shape=input_shape)\n",
    "    self.max_pool_1 = MaxPooling2D(pool_size=2, strides=1)\n",
    "    self.conv2 = Conv2D(filters=32, kernel_size=3, activation='relu', padding='same')\n",
    "    self.max_pool_2 = MaxPooling2D(pool_size=2, strides=1)\n",
    "    self.conv3 = Conv2D(filters=64, kernel_size=3, activation='relu', padding='same')\n",
    "\n",
    "    # self.conv4 = Conv2D(filters=384, kernel_size=3, activation='relu', padding='same')\n",
    "    # self.conv5 = Conv2D(filters=256, kernel_size=3, activation='relu', padding='same')\n",
    "    # self.max_pool_2 = MaxPooling2D(pool_size=3, strides=2)\n",
    "\n",
    "    self.conv4 = Conv2D(filters=64, kernel_size=3, activation='relu', padding='same')\n",
    "    self.conv5 = Conv2D(filters=64, kernel_size=3, activation='relu', padding='same')\n",
    "    self.max_pool_2 = MaxPooling2D(pool_size=2, strides=1)\n",
    "\n",
    "    self.flatten = Flatten()\n",
    "\n",
    "    # self.dense1 = Dense(units=4096, activation='relu')\n",
    "    # self.dropout1 = Dropout(0.5)\n",
    "    # self.dense2 = Dense(units=4096, activation='relu')\n",
    "    # self.dropout2 = Dropout(0.5)\n",
    "    # self.dense3 = Dense(units=1000, activation='relu')\n",
    "    # self.dense4 = Dense(units=num_classes, activation='softmax')\n",
    "\n",
    "    self.dense1 = Dense(units=512, activation='relu')\n",
    "    self.dropout1 = Dropout(0.2)\n",
    "    self.dense2 = Dense(units=256, activation='relu')\n",
    "    self.dropout2 = Dropout(0.2)\n",
    "    self.dense4 = Dense(units=num_classes, activation='softmax')\n",
    "\n",
    "  def call(self, inputs):\n",
    "    x = self.conv1(inputs)\n",
    "    x = self.max_pool_1(x)\n",
    "    x = self.conv2(x)\n",
    "    x = self.max_pool_2(x)\n",
    "    x = self.conv3(x)\n",
    "\n",
    "    x = self.conv4(x)\n",
    "    x = self.conv5(x)\n",
    "    x = self.max_pool_2(x)\n",
    "\n",
    "    x = self.flatten(x)\n",
    "\n",
    "    x = self.dense1(x)\n",
    "    x = self.dropout1(x)\n",
    "    x = self.dense2(x)\n",
    "    x = self.dropout2(x)\n",
    "    x = self.dense4(x)\n",
    "\n",
    "    return x"
   ]
  },
  {
   "cell_type": "code",
   "execution_count": 13,
   "metadata": {
    "colab": {},
    "colab_type": "code",
    "id": "cd6wvzEHVHoy"
   },
   "outputs": [],
   "source": [
    "learning_rate = 0.001\n",
    "batch_size = 128\n",
    "epochs = 20"
   ]
  },
  {
   "cell_type": "code",
   "execution_count": 14,
   "metadata": {
    "colab": {},
    "colab_type": "code",
    "id": "k3qneWKF4qLY"
   },
   "outputs": [],
   "source": [
    "early_stop_callback = EarlyStopping(monitor='val_accuracy', min_delta=0.0001, patience=1)"
   ]
  },
  {
   "cell_type": "code",
   "execution_count": 15,
   "metadata": {
    "colab": {},
    "colab_type": "code",
    "id": "UoQmZ374LTGG"
   },
   "outputs": [],
   "source": [
    "model = AlexNet(input_shape=x_train_tensor.shape[1:], num_classes=y_train_one_hot.shape[1])\n",
    "optimizer = Adam(learning_rate)\n",
    "model.compile(optimizer=optimizer, loss='categorical_crossentropy', metrics=['accuracy'])"
   ]
  },
  {
   "cell_type": "code",
   "execution_count": 16,
   "metadata": {
    "colab": {},
    "colab_type": "code",
    "id": "F38eQQVNLW3q"
   },
   "outputs": [],
   "source": [
    "train_data_gen = ImageDataGenerator(rescale=1./255, width_shift_range=0.1, height_shift_range=0.1, zoom_range=0.1, shear_range=0.1, rotation_range=2)\n",
    "train_data_gen.fit(x_train_tensor)\n",
    "train_gen = train_data_gen.flow(x_train_tensor, y_train_tensor, batch_size=batch_size)\n",
    "\n",
    "val_data_gen = ImageDataGenerator(rescale=1./255)\n",
    "val_data_gen.fit(x_val_tensor)\n",
    "val_gen = val_data_gen.flow(x_val_tensor, y_val_tensor, batch_size=batch_size)"
   ]
  },
  {
   "cell_type": "code",
   "execution_count": 17,
   "metadata": {
    "colab": {
     "base_uri": "https://localhost:8080/",
     "height": 461
    },
    "colab_type": "code",
    "id": "EUkS3z3gYjVV",
    "outputId": "a78c169f-61fe-4c11-f0a6-32698db05743"
   },
   "outputs": [
    {
     "name": "stdout",
     "output_type": "stream",
     "text": [
      "Epoch 1/20\n",
      "351/351 [==============================] - 25s 71ms/step - loss: 1.6225 - accuracy: 0.3987 - val_loss: 1.3324 - val_accuracy: 0.5256\n",
      "Epoch 2/20\n",
      "351/351 [==============================] - 25s 71ms/step - loss: 1.2971 - accuracy: 0.5323 - val_loss: 1.1956 - val_accuracy: 0.5768\n",
      "Epoch 3/20\n",
      "351/351 [==============================] - 25s 71ms/step - loss: 1.1472 - accuracy: 0.5908 - val_loss: 0.9773 - val_accuracy: 0.6474\n",
      "Epoch 4/20\n",
      "351/351 [==============================] - 24s 70ms/step - loss: 1.0438 - accuracy: 0.6289 - val_loss: 0.9519 - val_accuracy: 0.6594\n",
      "Epoch 5/20\n",
      "351/351 [==============================] - 25s 70ms/step - loss: 0.9646 - accuracy: 0.6611 - val_loss: 0.9907 - val_accuracy: 0.6610\n",
      "Epoch 6/20\n",
      "351/351 [==============================] - 24s 69ms/step - loss: 0.8937 - accuracy: 0.6860 - val_loss: 0.8166 - val_accuracy: 0.7106\n",
      "Epoch 7/20\n",
      "351/351 [==============================] - 24s 70ms/step - loss: 0.8289 - accuracy: 0.7076 - val_loss: 0.7836 - val_accuracy: 0.7244\n",
      "Epoch 8/20\n",
      "351/351 [==============================] - 24s 69ms/step - loss: 0.7945 - accuracy: 0.7203 - val_loss: 0.7967 - val_accuracy: 0.7288\n",
      "Epoch 9/20\n",
      "351/351 [==============================] - 24s 69ms/step - loss: 0.7491 - accuracy: 0.7383 - val_loss: 0.7561 - val_accuracy: 0.7366\n",
      "Epoch 10/20\n",
      "351/351 [==============================] - 24s 70ms/step - loss: 0.7167 - accuracy: 0.7479 - val_loss: 0.7383 - val_accuracy: 0.7462\n",
      "Epoch 11/20\n",
      "351/351 [==============================] - 24s 69ms/step - loss: 0.6843 - accuracy: 0.7579 - val_loss: 0.7232 - val_accuracy: 0.7568\n",
      "Epoch 12/20\n",
      "351/351 [==============================] - 24s 68ms/step - loss: 0.6625 - accuracy: 0.7673 - val_loss: 0.7826 - val_accuracy: 0.7416\n"
     ]
    },
    {
     "data": {
      "text/plain": [
       "<tensorflow.python.keras.callbacks.History at 0x7fcaa00794e0>"
      ]
     },
     "execution_count": 17,
     "metadata": {
      "tags": []
     },
     "output_type": "execute_result"
    }
   ],
   "source": [
    "model.fit(train_gen, epochs=epochs, validation_data=val_gen, steps_per_epoch=len(x_train_tensor) // batch_size, callbacks=[early_stop_callback])"
   ]
  },
  {
   "cell_type": "code",
   "execution_count": 20,
   "metadata": {
    "colab": {},
    "colab_type": "code",
    "id": "JR_Atu6K5qAV"
   },
   "outputs": [],
   "source": [
    "x_test_norm = x_test_init / 255.0\n",
    "x_test_tensor = convert_to_tensor(x_test_norm)\n",
    "y_test_one_hot = to_categorical(y_test_init, num_classes=10)"
   ]
  },
  {
   "cell_type": "code",
   "execution_count": 21,
   "metadata": {
    "colab": {
     "base_uri": "https://localhost:8080/",
     "height": 52
    },
    "colab_type": "code",
    "id": "z2iSDTH0t2Yx",
    "outputId": "3297de9b-9297-407b-d07c-3174065631eb"
   },
   "outputs": [
    {
     "name": "stdout",
     "output_type": "stream",
     "text": [
      "313/313 [==============================] - 1s 5ms/step - loss: 0.7693 - accuracy: 0.7403\n"
     ]
    },
    {
     "data": {
      "text/plain": [
       "[0.7692704796791077, 0.7402999997138977]"
      ]
     },
     "execution_count": 21,
     "metadata": {
      "tags": []
     },
     "output_type": "execute_result"
    }
   ],
   "source": [
    "model.evaluate(x=x_test_tensor, y=y_test_one_hot)"
   ]
  },
  {
   "cell_type": "code",
   "execution_count": 19,
   "metadata": {
    "colab": {},
    "colab_type": "code",
    "id": "P7JcmzgZ6JVw"
   },
   "outputs": [],
   "source": []
  }
 ],
 "metadata": {
  "accelerator": "GPU",
  "colab": {
   "name": "notebook.ipynb",
   "provenance": []
  },
  "kernelspec": {
   "display_name": "Python 3",
   "language": "python",
   "name": "python3"
  },
  "language_info": {
   "codemirror_mode": {
    "name": "ipython",
    "version": 3
   },
   "file_extension": ".py",
   "mimetype": "text/x-python",
   "name": "python",
   "nbconvert_exporter": "python",
   "pygments_lexer": "ipython3",
   "version": "3.7.6"
  }
 },
 "nbformat": 4,
 "nbformat_minor": 1
}
